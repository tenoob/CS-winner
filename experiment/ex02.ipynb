{
 "cells": [
  {
   "cell_type": "code",
   "execution_count": 1,
   "metadata": {},
   "outputs": [
    {
     "name": "stdout",
     "output_type": "stream",
     "text": [
      "d:\\ineuron\\ML_project\\CS-winner\\experiment\n",
      "d:\\ineuron\\ML_project\\CS-winner\n"
     ]
    }
   ],
   "source": [
    "import os\n",
    "print(os.getcwd())\n",
    "os.chdir('..')\n",
    "print(os.getcwd())\n"
   ]
  },
  {
   "cell_type": "code",
   "execution_count": 3,
   "metadata": {},
   "outputs": [],
   "source": [
    "from housing.component.data_ingestion import DataIngestion\n",
    "from housing.config.configration import Configration"
   ]
  },
  {
   "cell_type": "code",
   "execution_count": 4,
   "metadata": {},
   "outputs": [],
   "source": [
    "config = Configration()"
   ]
  },
  {
   "cell_type": "code",
   "execution_count": 5,
   "metadata": {},
   "outputs": [
    {
     "data": {
      "text/plain": [
       "DataIngestionConfig(dataset_download_url='https://raw.githubusercontent.com/ageron/handson-ml/master/datasets/housing/housing.tgz', tgz_download_dir='d:\\\\ineuron\\\\ML_project\\\\CS-winner\\\\housing\\\\artifact\\\\data_ingestion\\\\2022-09-26-15-00-24\\\\tgz_data', raw_data_dir='d:\\\\ineuron\\\\ML_project\\\\CS-winner\\\\housing\\\\artifact\\\\data_ingestion\\\\2022-09-26-15-00-24\\\\raw_data', ingested_train_dir='d:\\\\ineuron\\\\ML_project\\\\CS-winner\\\\housing\\\\artifact\\\\data_ingestion\\\\2022-09-26-15-00-24\\\\ingested_dir\\\\train', ingested_test_dir='d:\\\\ineuron\\\\ML_project\\\\CS-winner\\\\housing\\\\artifact\\\\data_ingestion\\\\2022-09-26-15-00-24\\\\ingested_dir\\\\test')"
      ]
     },
     "execution_count": 5,
     "metadata": {},
     "output_type": "execute_result"
    }
   ],
   "source": [
    "config.get_data_ingestion_config()"
   ]
  },
  {
   "cell_type": "code",
   "execution_count": 6,
   "metadata": {},
   "outputs": [],
   "source": [
    "inges = DataIngestion(config.get_data_ingestion_config())"
   ]
  },
  {
   "cell_type": "code",
   "execution_count": 7,
   "metadata": {},
   "outputs": [
    {
     "data": {
      "text/plain": [
       "<housing.component.data_ingestion.DataIngestion at 0x22d7fa4e6d0>"
      ]
     },
     "execution_count": 7,
     "metadata": {},
     "output_type": "execute_result"
    }
   ],
   "source": [
    "inges"
   ]
  },
  {
   "cell_type": "code",
   "execution_count": 9,
   "metadata": {},
   "outputs": [],
   "source": [
    "zip_file_path = inges.download_housing_data()"
   ]
  },
  {
   "cell_type": "code",
   "execution_count": 10,
   "metadata": {},
   "outputs": [
    {
     "ename": "HousingException",
     "evalue": "Error occured in script: [d:\\ineuron\\ML_project\\CS-winner\\housing\\component\\data_ingestion.py] at line number: [63] error message: [[Errno 2] No such file or directory: 'd:\\\\ineuron\\\\ML_project\\\\CS-winner\\\\housing\\\\artifact\\\\data_ingestion\\\\2022-09-26-15-00-24\\\\tgz_data\\\\housing.tgz']",
     "output_type": "error",
     "traceback": [
      "\u001b[1;31m---------------------------------------------------------------------------\u001b[0m",
      "\u001b[1;31mFileNotFoundError\u001b[0m                         Traceback (most recent call last)",
      "File \u001b[1;32md:\\ineuron\\ML_project\\CS-winner\\housing\\component\\data_ingestion.py:58\u001b[0m, in \u001b[0;36mDataIngestion.extract_tgz_file\u001b[1;34m(self, tgz_file_path)\u001b[0m\n\u001b[0;32m     57\u001b[0m logging\u001b[39m.\u001b[39minfo(\u001b[39mf\u001b[39m\u001b[39m\"\u001b[39m\u001b[39mextracting :[\u001b[39m\u001b[39m{\u001b[39;00mtgz_file_path\u001b[39m}\u001b[39;00m\u001b[39m] into dir :[\u001b[39m\u001b[39m{\u001b[39;00mraw_data_dir\u001b[39m}\u001b[39;00m\u001b[39m]\u001b[39m\u001b[39m\"\u001b[39m)\n\u001b[1;32m---> 58\u001b[0m \u001b[39mwith\u001b[39;00m tarfile\u001b[39m.\u001b[39;49mopen(tgz_file_path) \u001b[39mas\u001b[39;00m housing_tgz_file_obj:\n\u001b[0;32m     59\u001b[0m     housing_tgz_file_obj\u001b[39m.\u001b[39mextractall(path\u001b[39m=\u001b[39mraw_data_dir)\n",
      "File \u001b[1;32mc:\\Users\\kanan\\Anaconda3\\envs\\venv1\\lib\\tarfile.py:1620\u001b[0m, in \u001b[0;36mTarFile.open\u001b[1;34m(cls, name, mode, fileobj, bufsize, **kwargs)\u001b[0m\n\u001b[0;32m   1619\u001b[0m \u001b[39mtry\u001b[39;00m:\n\u001b[1;32m-> 1620\u001b[0m     \u001b[39mreturn\u001b[39;00m func(name, \u001b[39m\"\u001b[39m\u001b[39mr\u001b[39m\u001b[39m\"\u001b[39m, fileobj, \u001b[39m*\u001b[39m\u001b[39m*\u001b[39mkwargs)\n\u001b[0;32m   1621\u001b[0m \u001b[39mexcept\u001b[39;00m (ReadError, CompressionError):\n",
      "File \u001b[1;32mc:\\Users\\kanan\\Anaconda3\\envs\\venv1\\lib\\tarfile.py:1684\u001b[0m, in \u001b[0;36mTarFile.gzopen\u001b[1;34m(cls, name, mode, fileobj, compresslevel, **kwargs)\u001b[0m\n\u001b[0;32m   1683\u001b[0m \u001b[39mtry\u001b[39;00m:\n\u001b[1;32m-> 1684\u001b[0m     fileobj \u001b[39m=\u001b[39m GzipFile(name, mode \u001b[39m+\u001b[39;49m \u001b[39m\"\u001b[39;49m\u001b[39mb\u001b[39;49m\u001b[39m\"\u001b[39;49m, compresslevel, fileobj)\n\u001b[0;32m   1685\u001b[0m \u001b[39mexcept\u001b[39;00m \u001b[39mOSError\u001b[39;00m:\n",
      "File \u001b[1;32mc:\\Users\\kanan\\Anaconda3\\envs\\venv1\\lib\\gzip.py:173\u001b[0m, in \u001b[0;36mGzipFile.__init__\u001b[1;34m(self, filename, mode, compresslevel, fileobj, mtime)\u001b[0m\n\u001b[0;32m    172\u001b[0m \u001b[39mif\u001b[39;00m fileobj \u001b[39mis\u001b[39;00m \u001b[39mNone\u001b[39;00m:\n\u001b[1;32m--> 173\u001b[0m     fileobj \u001b[39m=\u001b[39m \u001b[39mself\u001b[39m\u001b[39m.\u001b[39mmyfileobj \u001b[39m=\u001b[39m builtins\u001b[39m.\u001b[39;49mopen(filename, mode \u001b[39mor\u001b[39;49;00m \u001b[39m'\u001b[39;49m\u001b[39mrb\u001b[39;49m\u001b[39m'\u001b[39;49m)\n\u001b[0;32m    174\u001b[0m \u001b[39mif\u001b[39;00m filename \u001b[39mis\u001b[39;00m \u001b[39mNone\u001b[39;00m:\n",
      "\u001b[1;31mFileNotFoundError\u001b[0m: [Errno 2] No such file or directory: 'd:\\\\ineuron\\\\ML_project\\\\CS-winner\\\\housing\\\\artifact\\\\data_ingestion\\\\2022-09-26-15-00-24\\\\tgz_data\\\\housing.tgz'",
      "\nThe above exception was the direct cause of the following exception:\n",
      "\u001b[1;31mHousingException\u001b[0m                          Traceback (most recent call last)",
      "Cell \u001b[1;32mIn [10], line 1\u001b[0m\n\u001b[1;32m----> 1\u001b[0m \u001b[43minges\u001b[49m\u001b[38;5;241;43m.\u001b[39;49m\u001b[43mextract_tgz_file\u001b[49m\u001b[43m(\u001b[49m\u001b[43mzip_file_path\u001b[49m\u001b[43m)\u001b[49m\n",
      "File \u001b[1;32md:\\ineuron\\ML_project\\CS-winner\\housing\\component\\data_ingestion.py:63\u001b[0m, in \u001b[0;36mDataIngestion.extract_tgz_file\u001b[1;34m(self, tgz_file_path)\u001b[0m\n\u001b[0;32m     60\u001b[0m     logging\u001b[39m.\u001b[39minfo(\u001b[39m\"\u001b[39m\u001b[39mextraction successfull\u001b[39m\u001b[39m\"\u001b[39m) \n\u001b[0;32m     62\u001b[0m \u001b[39mexcept\u001b[39;00m \u001b[39mException\u001b[39;00m \u001b[39mas\u001b[39;00m e:\n\u001b[1;32m---> 63\u001b[0m     \u001b[39mraise\u001b[39;00m HousingException(e,sys) \u001b[39mfrom\u001b[39;00m \u001b[39me\u001b[39;00m\n",
      "\u001b[1;31mHousingException\u001b[0m: Error occured in script: [d:\\ineuron\\ML_project\\CS-winner\\housing\\component\\data_ingestion.py] at line number: [63] error message: [[Errno 2] No such file or directory: 'd:\\\\ineuron\\\\ML_project\\\\CS-winner\\\\housing\\\\artifact\\\\data_ingestion\\\\2022-09-26-15-00-24\\\\tgz_data\\\\housing.tgz']"
     ]
    }
   ],
   "source": [
    "inges.extract_tgz_file(zip_file_path)"
   ]
  },
  {
   "cell_type": "code",
   "execution_count": null,
   "metadata": {},
   "outputs": [],
   "source": []
  }
 ],
 "metadata": {
  "kernelspec": {
   "display_name": "Python 3.9.13 ('venv1')",
   "language": "python",
   "name": "python3"
  },
  "language_info": {
   "codemirror_mode": {
    "name": "ipython",
    "version": 3
   },
   "file_extension": ".py",
   "mimetype": "text/x-python",
   "name": "python",
   "nbconvert_exporter": "python",
   "pygments_lexer": "ipython3",
   "version": "3.9.13"
  },
  "orig_nbformat": 4,
  "vscode": {
   "interpreter": {
    "hash": "1fd4d96415d7e914f2b9a5292ab2258d0adc91c88b75567b69164b578963466e"
   }
  }
 },
 "nbformat": 4,
 "nbformat_minor": 2
}
